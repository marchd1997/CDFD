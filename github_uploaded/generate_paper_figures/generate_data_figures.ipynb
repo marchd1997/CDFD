{
 "cells": [
  {
   "cell_type": "markdown",
   "id": "0ffcb367-f6a1-47dd-8d73-ca5e3a2d0167",
   "metadata": {},
   "source": [
    "# Experiments \n",
    "To avoid long running times here we have modified the parameters (size of network, number of samples...). Next to them we give, in a comment, the value used for the paper's figures. "
   ]
  },
  {
   "cell_type": "code",
   "execution_count": 8,
   "id": "c411aaf5-741a-4ef7-937c-33132f93feab",
   "metadata": {
    "tags": []
   },
   "outputs": [],
   "source": [
    "import numpy as np\n",
    "import pandas as pd\n",
    "import networkx as nx\n",
    "import os\n",
    "from itertools import product\n",
    "\n",
    "from tqdm import tqdm"
   ]
  },
  {
   "cell_type": "code",
   "execution_count": 9,
   "id": "e1f2a996-07f6-4285-b0b7-1a2f2d54a706",
   "metadata": {
    "tags": []
   },
   "outputs": [],
   "source": [
    "# Moving to parent directory to import from CDFD and other_helpers\n",
    "current_dir = os.getcwd()\n",
    "os.chdir(\"..\")\n",
    "from CDFD import get_circularity, CDFD\n",
    "from other_helpers import  uniform_multigraph, in_cycle_ratio, trophic_incoherence\n",
    "\n",
    "# Moving back to original directory\n",
    "os.chdir(current_dir)"
   ]
  },
  {
   "cell_type": "markdown",
   "id": "40cd02f3-f739-4dc3-8610-8401018a178d",
   "metadata": {},
   "source": [
    "## Figure 3"
   ]
  },
  {
   "cell_type": "code",
   "execution_count": 12,
   "id": "73f7b088-ed34-4f07-9a54-c62eda724967",
   "metadata": {
    "tags": []
   },
   "outputs": [],
   "source": [
    "# Define parameters\n",
    "n_max = 500 # 8000 (value used in paper)\n",
    "n_division = 10 # 20 (value used in paper)\n",
    "num_it = 10 # 50 (value used in paper)\n",
    "\n",
    "n_values = [int(i) for i in np.logspace(np.log10(10), np.log10(n_max), n_division )] # uniformly spaced in log-plot\n",
    "avr_weights = [1,2,3,4,5]\n",
    "parameters = list(product (n_values, avr_weights))"
   ]
  },
  {
   "cell_type": "code",
   "execution_count": 13,
   "id": "e4c8a0d6-216c-4d55-95c7-d591d73ef2b1",
   "metadata": {},
   "outputs": [
    {
     "name": "stderr",
     "output_type": "stream",
     "text": [
      "100%|██████████| 10/10 [06:55<00:00, 41.54s/it]\n"
     ]
    }
   ],
   "source": [
    "# Generate random networks and compute their circularity\n",
    "experiments = []\n",
    "\n",
    "for _ in tqdm(range(num_it)):\n",
    "    for n, avr_weight in parameters:\n",
    "        experiment = {'num_nodes' : n, 'average_weight' : avr_weight}\n",
    "        G = uniform_multigraph(n,n*avr_weight)\n",
    "        C, D = CDFD(G , solution_method = \"min_cost_pulp\")\n",
    "        experiment['max'] = get_circularity(C, D)\n",
    "        C, D = CDFD(G , solution_method = \"BFF\")\n",
    "        experiment['BFF'] = get_circularity(C, D)\n",
    "        experiments.append(experiment)\n",
    "\n",
    "exps = pd.DataFrame.from_dict(experiments)"
   ]
  },
  {
   "cell_type": "code",
   "execution_count": 15,
   "id": "0bf06f12-22da-41fc-827b-ea92755b3f23",
   "metadata": {
    "tags": []
   },
   "outputs": [],
   "source": [
    "# Saving data \n",
    "path_data = \"data_figures\"\n",
    "if not os.path.exists(path_data):\n",
    "    os.makedirs(path_data)\n",
    "    \n",
    "path_exps = os.path.join(path_data, \"Figure3.csv\")\n",
    "exps.to_csv(path_exps, index=False) "
   ]
  },
  {
   "cell_type": "markdown",
   "id": "70cd1511-400f-4c2d-a3a3-e39c6b4c35d8",
   "metadata": {},
   "source": [
    "## Figure 4"
   ]
  },
  {
   "cell_type": "code",
   "execution_count": 18,
   "id": "6e3ae6c6-417e-4d1f-a194-bfd74405d4fb",
   "metadata": {
    "tags": []
   },
   "outputs": [],
   "source": [
    "# Define parameters\n",
    "n = 100 # 2000 (value used in paper)\n",
    "avr_weight_max = n\n",
    "num_divisions = 20\n",
    "num_it = 10 # 20 (value used in paper)\n",
    "\n",
    "avr_weights = np.logspace(np.log10(1), np.log10(avr_weight_max), num_divisions ) # uniformly spaced in log-plot"
   ]
  },
  {
   "cell_type": "code",
   "execution_count": 19,
   "id": "368f3491-2e88-4886-81e7-4d9bffa1748e",
   "metadata": {
    "tags": []
   },
   "outputs": [
    {
     "name": "stderr",
     "output_type": "stream",
     "text": [
      "100%|██████████| 10/10 [04:08<00:00, 24.85s/it]\n"
     ]
    }
   ],
   "source": [
    "# Generate random networks and compute their circularity\n",
    "experiments = []\n",
    "\n",
    "for _ in tqdm(range(num_it)):\n",
    "    for avr_weight in avr_weights:\n",
    "        experiment = {'num_nodes' : n, 'average_weight' : avr_weight}\n",
    "        G = uniform_multigraph(n,int(n*avr_weight))\n",
    "        C, D = CDFD(G , solution_method = \"min_cost_pulp\")\n",
    "        experiment['max'] = get_circularity(C, D)\n",
    "        C, D = CDFD(G , solution_method = \"BFF\")\n",
    "        experiment['BFF'] = get_circularity(C, D)\n",
    "        experiments.append(experiment)\n",
    "exps = pd.DataFrame.from_dict(experiments)"
   ]
  },
  {
   "cell_type": "code",
   "execution_count": 20,
   "id": "876ab6d9-9914-4acf-a8de-56a4be8f0981",
   "metadata": {
    "tags": []
   },
   "outputs": [],
   "source": [
    "# Saving data   \n",
    "path_exps = os.path.join(path_data, \"Figure4.csv\")\n",
    "exps.to_csv(path_exps, index=False) "
   ]
  },
  {
   "cell_type": "markdown",
   "id": "67c3d393-be7e-4232-a0bc-c6cd96360346",
   "metadata": {},
   "source": [
    "## Figure 5"
   ]
  },
  {
   "cell_type": "markdown",
   "id": "3ef4bdc5-f6a9-45ef-8170-179abe4e7cd6",
   "metadata": {},
   "source": [
    "### Random generated data"
   ]
  },
  {
   "cell_type": "code",
   "execution_count": 23,
   "id": "56b0571f-8fbd-485e-8b95-219faa177226",
   "metadata": {
    "tags": []
   },
   "outputs": [],
   "source": [
    "n_values = [20, 100, 500, 900] # [200, 1000, 5000, 9000] (values used in paper) \n",
    "exponent = -0.5\n",
    "avr_degrees = [i**(1/exponent) for i in np.linspace(1**exponent,4**exponent,25)]\n",
    "# From Figure 4 we expect this to create roughly uniform separation of BFF circularity"
   ]
  },
  {
   "cell_type": "code",
   "execution_count": 24,
   "id": "89c2a1ce-2b41-464f-8abc-ea0eaf16600d",
   "metadata": {},
   "outputs": [
    {
     "name": "stderr",
     "output_type": "stream",
     "text": [
      "100%|██████████| 4/4 [02:37<00:00, 39.41s/it]\n"
     ]
    }
   ],
   "source": [
    "experiments = []\n",
    "for n in tqdm(n_values): \n",
    "    for avr_degree in avr_degrees:\n",
    "        experiment = {'num_nodes' : n, 'average_degree' : avr_degree, 'type' : 'Random'}\n",
    "        G = uniform_multigraph(n, int(avr_degree*n))\n",
    "        C, D = CDFD(G , solution_method = \"min_cost_pulp\")\n",
    "        experiment ['max'] = get_circularity(C, D)\n",
    "        C, D = CDFD(G , solution_method = \"BFF\")\n",
    "        experiment ['BFF'] = get_circularity(C, D)\n",
    "        experiment['incoherence'] = trophic_incoherence(G)\n",
    "        experiment['All cycle edges'] = in_cycle_ratio(G)\n",
    "        experiments.append(experiment)\n",
    "exps_rnd = pd.DataFrame.from_dict(experiments)"
   ]
  },
  {
   "cell_type": "markdown",
   "id": "7bee1335-ee56-4594-b67c-91203105334d",
   "metadata": {
    "tags": []
   },
   "source": [
    "### Sarafu data\n",
    "The computation in this section may take a few minutes to finish. \n",
    "\n",
    "If one does not have access to this data you can still plot the rest of the data by removing exps_mon and exps_mod in the last cell of this notebook. "
   ]
  },
  {
   "cell_type": "markdown",
   "id": "ecb514df-ca80-4a15-a928-59b0dfd8da79",
   "metadata": {
    "tags": []
   },
   "source": [
    "FULL NETWORK"
   ]
  },
  {
   "cell_type": "code",
   "execution_count": 34,
   "id": "1db512d8-80fa-4b73-8701-ce32f222f4e7",
   "metadata": {
    "tags": []
   },
   "outputs": [
    {
     "name": "stdout",
     "output_type": "stream",
     "text": [
      "Data loaded.\n",
      "Unexpected exception formatting exception. Falling back to standard exception\n"
     ]
    },
    {
     "name": "stderr",
     "output_type": "stream",
     "text": [
      "Traceback (most recent call last):\n",
      "  File \"C:\\Users\\MathsCDT\\anaconda3\\Lib\\site-packages\\IPython\\core\\interactiveshell.py\", line 3526, in run_code\n",
      "    exec(code_obj, self.user_global_ns, self.user_ns)\n",
      "  File \"C:\\Users\\MathsCDT\\AppData\\Local\\Temp\\ipykernel_11916\\1223186361.py\", line 8, in <module>\n",
      "    C, D = CDFD(flow_reg_nx , solution_method = \"min_cost_pulp\")\n",
      "           ^^^^^^^^^^^^^^^^^^^^^^^^^^^^^^^^^^^^^^^^^^^^^^^^^^^^^\n",
      "  File \"C:\\Users\\MathsCDT\\Dropbox\\matematiques_dropbox\\Warwick\\project directed networks\\Code\\Python\\github\\CDFD.py\", line 137, in CDFD\n",
      "    C, D = sol_method_dic[solution_method](W, TOL_ZERO = TOL_ZERO, TOL_decimals = TOL_decimals, MAX_decimals = MAX_decimals)\n",
      "           ^^^^^^^^^^^^^^^^^^^^^^^^^^^^^^^^^^^^^^^^^^^^^^^^^^^^^^^^^^^^^^^^^^^^^^^^^^^^^^^^^^^^^^^^^^^^^^^^^^^^^^^^^^^^^^^^^\n",
      "  File \"C:\\Users\\MathsCDT\\Dropbox\\matematiques_dropbox\\Warwick\\project directed networks\\Code\\Python\\github\\CDFD.py\", line 242, in CDFD_min_cost_pulp\n",
      "    D = _min_cost_flow_pulp( W )\n",
      "        ^^^^^^^^^^^^^^^^^^^^^^^^\n",
      "  File \"C:\\Users\\MathsCDT\\Dropbox\\matematiques_dropbox\\Warwick\\project directed networks\\Code\\Python\\github\\CDFD.py\", line 681, in _min_cost_flow_pulp\n",
      "    problem.solve(solver)\n",
      "  File \"C:\\Users\\MathsCDT\\anaconda3\\Lib\\site-packages\\pulp\\pulp.py\", line 1883, in solve\n",
      "    status = solver.actualSolve(self, **kwargs)\n",
      "             ^^^^^^^^^^^^^^^^^^^^^^^^^^^^^^^^^^\n",
      "  File \"C:\\Users\\MathsCDT\\anaconda3\\Lib\\site-packages\\pulp\\apis\\coin_api.py\", line 112, in actualSolve\n",
      "    return self.solve_CBC(lp, **kwargs)\n",
      "           ^^^^^^^^^^^^^^^^^^^^^^^^^^^^\n",
      "  File \"C:\\Users\\MathsCDT\\anaconda3\\Lib\\site-packages\\pulp\\apis\\coin_api.py\", line 198, in solve_CBC\n",
      "    lp.assignVarsDj(reducedCosts)\n",
      "  File \"C:\\Users\\MathsCDT\\anaconda3\\Lib\\site-packages\\pulp\\pulp.py\", line -1, in assignVarsDj\n",
      "KeyboardInterrupt\n",
      "\n",
      "During handling of the above exception, another exception occurred:\n",
      "\n",
      "Traceback (most recent call last):\n",
      "  File \"C:\\Users\\MathsCDT\\anaconda3\\Lib\\site-packages\\IPython\\core\\interactiveshell.py\", line 2120, in showtraceback\n",
      "    stb = self.InteractiveTB.structured_traceback(\n",
      "          ^^^^^^^^^^^^^^^^^^^^^^^^^^^^^^^^^^^^^^^^\n",
      "  File \"C:\\Users\\MathsCDT\\anaconda3\\Lib\\site-packages\\IPython\\core\\ultratb.py\", line 1435, in structured_traceback\n",
      "    return FormattedTB.structured_traceback(\n",
      "           ^^^^^^^^^^^^^^^^^^^^^^^^^^^^^^^^^\n",
      "  File \"C:\\Users\\MathsCDT\\anaconda3\\Lib\\site-packages\\IPython\\core\\ultratb.py\", line 1326, in structured_traceback\n",
      "    return VerboseTB.structured_traceback(\n",
      "           ^^^^^^^^^^^^^^^^^^^^^^^^^^^^^^^\n",
      "  File \"C:\\Users\\MathsCDT\\anaconda3\\Lib\\site-packages\\IPython\\core\\ultratb.py\", line 1173, in structured_traceback\n",
      "    formatted_exception = self.format_exception_as_a_whole(etype, evalue, etb, number_of_lines_of_context,\n",
      "                          ^^^^^^^^^^^^^^^^^^^^^^^^^^^^^^^^^^^^^^^^^^^^^^^^^^^^^^^^^^^^^^^^^^^^^^^^^^^^^^^^\n",
      "  File \"C:\\Users\\MathsCDT\\anaconda3\\Lib\\site-packages\\IPython\\core\\ultratb.py\", line 1088, in format_exception_as_a_whole\n",
      "    frames.append(self.format_record(record))\n",
      "                  ^^^^^^^^^^^^^^^^^^^^^^^^^^\n",
      "  File \"C:\\Users\\MathsCDT\\anaconda3\\Lib\\site-packages\\IPython\\core\\ultratb.py\", line 970, in format_record\n",
      "    frame_info.lines, Colors, self.has_colors, lvals\n",
      "    ^^^^^^^^^^^^^^^^\n",
      "  File \"C:\\Users\\MathsCDT\\anaconda3\\Lib\\site-packages\\IPython\\core\\ultratb.py\", line 792, in lines\n",
      "    return self._sd.lines\n",
      "           ^^^^^^^^^^^^^^\n",
      "  File \"C:\\Users\\MathsCDT\\anaconda3\\Lib\\site-packages\\stack_data\\utils.py\", line 145, in cached_property_wrapper\n",
      "    value = obj.__dict__[self.func.__name__] = self.func(obj)\n",
      "                                               ^^^^^^^^^^^^^^\n",
      "  File \"C:\\Users\\MathsCDT\\anaconda3\\Lib\\site-packages\\stack_data\\core.py\", line 698, in lines\n",
      "    pieces = self.included_pieces\n",
      "             ^^^^^^^^^^^^^^^^^^^^\n",
      "  File \"C:\\Users\\MathsCDT\\anaconda3\\Lib\\site-packages\\stack_data\\utils.py\", line 145, in cached_property_wrapper\n",
      "    value = obj.__dict__[self.func.__name__] = self.func(obj)\n",
      "                                               ^^^^^^^^^^^^^^\n",
      "  File \"C:\\Users\\MathsCDT\\anaconda3\\Lib\\site-packages\\stack_data\\core.py\", line 649, in included_pieces\n",
      "    pos = scope_pieces.index(self.executing_piece)\n",
      "                             ^^^^^^^^^^^^^^^^^^^^\n",
      "  File \"C:\\Users\\MathsCDT\\anaconda3\\Lib\\site-packages\\stack_data\\utils.py\", line 145, in cached_property_wrapper\n",
      "    value = obj.__dict__[self.func.__name__] = self.func(obj)\n",
      "                                               ^^^^^^^^^^^^^^\n",
      "  File \"C:\\Users\\MathsCDT\\anaconda3\\Lib\\site-packages\\stack_data\\core.py\", line 628, in executing_piece\n",
      "    return only(\n",
      "           ^^^^^\n",
      "  File \"C:\\Users\\MathsCDT\\anaconda3\\Lib\\site-packages\\executing\\executing.py\", line 164, in only\n",
      "    raise NotOneValueFound('Expected one value, found 0')\n",
      "executing.executing.NotOneValueFound: Expected one value, found 0\n"
     ]
    }
   ],
   "source": [
    "# Load data\n",
    "sarafu_path = \"data_sarafu\"\n",
    "flow_reg_dir = os.path.join(sarafu_path, \"networks\", \"sarafu_reg_users.net\")\n",
    "flow_reg_nx = nx.DiGraph(nx.read_pajek(flow_reg_dir, encoding='UTF-8'))\n",
    "print(\"Data loaded.\")\n",
    "\n",
    "# Compute circularity \n",
    "C, D = CDFD(flow_reg_nx , solution_method = \"min_cost_pulp\")\n",
    "print( \"Maximal circulairity of the full sarafu network is:\", get_circularity(C, D))\n",
    "\n",
    "C, D = CDFD(flow_reg_nx , solution_method = \"BFF\")\n",
    "print( \"BFF circulairity of the full sarafu network is:\", get_circularity(C, D))"
   ]
  },
  {
   "cell_type": "markdown",
   "id": "354fceb1-7f41-409d-af97-7fa29160500d",
   "metadata": {},
   "source": [
    "MONTHLY NETWORKS"
   ]
  },
  {
   "cell_type": "code",
   "execution_count": null,
   "id": "0655f64c-e926-4c50-88f0-c0187adad14d",
   "metadata": {
    "tags": []
   },
   "outputs": [],
   "source": [
    "# Get monthly data\n",
    "months = ['2020-02', '2020-03', '2020-04', '2020-05', '2020-06', '2020-07', '2020-08', '2020-09',\n",
    "          '2020-10', '2020-11', '2020-12', '2021-01', '2021-02', '2021-03','2021-04', '2021-05']\n",
    "\n",
    "G_months = {}\n",
    "for month in months: \n",
    "    flow_mod_dir = os.path.join(sarafu_path,\"networks\",\"monthly\", \"sarafu_reg_\"+ month + \".net\")\n",
    "    graph = nx.DiGraph(nx.read_pajek(flow_mod_dir,encoding='UTF-8'))\n",
    "    G_months[month] = graph"
   ]
  },
  {
   "cell_type": "code",
   "execution_count": null,
   "id": "e22c0faf-64bc-41a1-97de-338ca5549eaa",
   "metadata": {
    "tags": []
   },
   "outputs": [],
   "source": [
    "# Compute monthly circularity\n",
    "experiments = []\n",
    "for month, G in G_months.items():\n",
    "    experiment = {'num_nodes' : G.number_of_nodes(), 'average_weight' : np.sum(nx.adjacency_matrix(G).data)/G.number_of_nodes(),\n",
    "                  'type' : 'Monthly data', 'average_degree' : G.number_of_edges()/G.number_of_nodes()}\n",
    "    C, D = CDFD(G , solution_method = \"min_cost_pulp\")\n",
    "    experiment ['max'] = get_circularity(C, D)\n",
    "    C, D = CDFD(G , solution_method = \"BFF\")\n",
    "    experiment ['BFF'] = get_circularity(C, D)\n",
    "    experiment['incoherence'] = trophic_incoherence(G)\n",
    "    experiment['All cycle edges'] = in_cycle_ratio(G)\n",
    "    experiments.append(experiment)\n",
    "exps_mon = pd.DataFrame.from_dict(experiments)"
   ]
  },
  {
   "cell_type": "code",
   "execution_count": null,
   "id": "0506485f-f5f5-45dd-a9cf-3e2ae86309a3",
   "metadata": {
    "tags": []
   },
   "outputs": [],
   "source": [
    "# Get module data\n",
    "path = os.path.join(sarafu_path,\"networks\",\"modules\",\"mod_1\")\n",
    "\n",
    "G_modules = [] \n",
    "for file_name in os.listdir(path):\n",
    "    G = nx.DiGraph(nx.read_pajek(os.path.join(path, file_name),encoding='UTF-8'))\n",
    "    G_modules.append(G)"
   ]
  },
  {
   "cell_type": "code",
   "execution_count": null,
   "id": "506edcf3-7cc2-4fe5-b098-6ff395623096",
   "metadata": {
    "tags": []
   },
   "outputs": [],
   "source": [
    "# Compute modules circularity\n",
    "experiments = []\n",
    "for G in G_modules:\n",
    "    experiment = {'num_nodes' : G.number_of_nodes(), 'average_weight' : np.sum(nx.adjacency_matrix(G).data)/G.number_of_nodes(),\n",
    "                  'type' : 'Modules data', 'average_degree' : G.number_of_edges()/G.number_of_nodes()}\n",
    "    C, D = CDFD(G , solution_method = \"min_cost_pulp\")\n",
    "    experiment ['max'] = get_circularity(C, D)\n",
    "    C, D = CDFD(G , solution_method = \"BFF\")\n",
    "    experiment ['BFF'] = get_circularity(C, D)\n",
    "    experiment['incoherence'] = trophic_incoherence(G)\n",
    "    experiment['All cycle edges'] = in_cycle_ratio(G)\n",
    "    experiments.append(experiment)\n",
    "exps_mod = pd.DataFrame.from_dict(experiments)"
   ]
  },
  {
   "cell_type": "markdown",
   "id": "3f06b25c-38a3-4f5c-894b-cc9f49d56d63",
   "metadata": {},
   "source": [
    "SAVE DATA"
   ]
  },
  {
   "cell_type": "code",
   "execution_count": null,
   "id": "1579f60d-5d2a-4175-b586-4d6ed702c093",
   "metadata": {
    "tags": []
   },
   "outputs": [],
   "source": [
    "exps = pd.concat([exps_rnd, exps_mon, exps_mod], ignore_index=True)\n",
    "\n",
    "path_exps = os.path.join(path_data, \"Figure5.csv\")\n",
    "exps.to_csv(path_exps, index=False) "
   ]
  },
  {
   "cell_type": "code",
   "execution_count": null,
   "id": "c458cd70-8003-496d-9a9e-b43bab9029ee",
   "metadata": {},
   "outputs": [],
   "source": []
  }
 ],
 "metadata": {
  "kernelspec": {
   "display_name": "Python 3 (ipykernel)",
   "language": "python",
   "name": "python3"
  },
  "language_info": {
   "codemirror_mode": {
    "name": "ipython",
    "version": 3
   },
   "file_extension": ".py",
   "mimetype": "text/x-python",
   "name": "python",
   "nbconvert_exporter": "python",
   "pygments_lexer": "ipython3",
   "version": "3.11.5"
  }
 },
 "nbformat": 4,
 "nbformat_minor": 5
}
